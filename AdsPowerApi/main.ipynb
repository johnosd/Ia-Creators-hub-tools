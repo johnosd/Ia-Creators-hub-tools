{
 "cells": [
  {
   "cell_type": "code",
   "execution_count": 3,
   "id": "a2f9d54f",
   "metadata": {},
   "outputs": [],
   "source": [
    "import requests\n",
    "import time\n",
    "\n",
    "API_BASE = \"http://local.adspower.net:50325\"\n",
    "USER_ID = \"k10mkohr\"  # seu profile_id"
   ]
  },
  {
   "cell_type": "code",
   "execution_count": null,
   "id": "6d0efa96",
   "metadata": {},
   "outputs": [
    {
     "name": "stdout",
     "output_type": "stream",
     "text": [
      "Navegador aberto com sucesso.\n"
     ]
    }
   ],
   "source": [
    "\n",
    "\n",
    "def open_browser(original=True, params=None):\n",
    "    endpoint = \"/api/v1/browser/start\" + (\"\" if original else \"/v2\")\n",
    "    url = API_BASE + endpoint\n",
    "    params = params or {}\n",
    "    params[\"user_id\"] = USER_ID\n",
    "    resp = requests.get(url, params=params).json()\n",
    "    if resp.get(\"code\") != 0:\n",
    "        raise Exception(f\"Erro ao abrir browser: {resp.get('msg')}\")\n",
    "    print(\"Navegador aberto com sucesso.\")\n",
    "    return resp[\"data\"]\n",
    "\n",
    "def close_browser(original=True):\n",
    "    endpoint = \"/api/v1/browser/stop\" + (\"\" if original else \"/v2\")\n",
    "    url = API_BASE + endpoint\n",
    "    resp = requests.get(url, params={\"user_id\": USER_ID}).json()\n",
    "    if resp.get(\"code\") != 0:\n",
    "        raise Exception(f\"Erro ao fechar browser: {resp.get('msg')}\")\n",
    "    print(\"Navegador fechado com sucesso.\")\n",
    "\n",
    "if __name__ == \"__main__\":\n",
    "    # Exemplo rota original\n",
    "    data = open_browser(original=True)\n",
    "    # Aguarda ou faça algo\n",
    "    time.sleep(5000)\n",
    "    close_browser(original=True)\n",
    "\n",
    "    # Exemplo rota V2 (mesma lógica, se suportada)\n",
    "    data2 = open_browser(original=False)\n",
    "    time.sleep(5)\n",
    "    close_browser(original=False)\n"
   ]
  },
  {
   "cell_type": "code",
   "execution_count": null,
   "id": "a303016b",
   "metadata": {},
   "outputs": [],
   "source": []
  },
  {
   "cell_type": "code",
   "execution_count": null,
   "id": "7228b66b",
   "metadata": {},
   "outputs": [],
   "source": []
  },
  {
   "cell_type": "code",
   "execution_count": null,
   "id": "e8a4b321",
   "metadata": {},
   "outputs": [],
   "source": []
  },
  {
   "cell_type": "code",
   "execution_count": null,
   "id": "080d51c3",
   "metadata": {},
   "outputs": [],
   "source": []
  }
 ],
 "metadata": {
  "kernelspec": {
   "display_name": "Python 3",
   "language": "python",
   "name": "python3"
  },
  "language_info": {
   "codemirror_mode": {
    "name": "ipython",
    "version": 3
   },
   "file_extension": ".py",
   "mimetype": "text/x-python",
   "name": "python",
   "nbconvert_exporter": "python",
   "pygments_lexer": "ipython3",
   "version": "3.11.9"
  }
 },
 "nbformat": 4,
 "nbformat_minor": 5
}
